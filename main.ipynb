{
  "nbformat": 4,
  "nbformat_minor": 0,
  "metadata": {
    "colab": {
      "provenance": [],
      "authorship_tag": "ABX9TyNeEtfF2zgRBsa/bFOkp6pc"
    },
    "kernelspec": {
      "name": "python3",
      "display_name": "Python 3"
    },
    "language_info": {
      "name": "python"
    }
  },
  "cells": [
    {
      "cell_type": "code",
      "source": [
        "from pyspark.sql import SparkSession\n",
        "spark = SparkSession.builder.appName(\"ProductsCategories\").getOrCreate()"
      ],
      "metadata": {
        "id": "jgufZRyBsze6"
      },
      "execution_count": 25,
      "outputs": []
    },
    {
      "cell_type": "markdown",
      "source": [
        "Предположила, что начальные данные должны выглядеть примерно так (dataframe для продуктов, dataframe для категорий и dataframe для их связей между собой):"
      ],
      "metadata": {
        "id": "2H9f9piPux0t"
      }
    },
    {
      "cell_type": "code",
      "source": [
        "products_df = spark.createDataFrame([(1, \"яблоко\"), (2, \"груша\"), (3, \"помидор\"), (4, \"калькулятор\"),], [\"product_id\", \"product_name\"])\n",
        "categories_df = spark.createDataFrame([(1, \"фрукты\"), (2, \"овощи\"), (3, \"молочные продукты\")], [\"category_id\", \"category_name\"])\n",
        "prod_cat_df = spark.createDataFrame([(1, 1), (2, 1), (3, 2)], [\"product_id\", \"category_id\"])"
      ],
      "metadata": {
        "id": "4HA8irHZtQBH"
      },
      "execution_count": 26,
      "outputs": []
    },
    {
      "cell_type": "code",
      "source": [
        "products_df.show()\n",
        "categories_df.show()\n",
        "prod_cat_df.show()"
      ],
      "metadata": {
        "colab": {
          "base_uri": "https://localhost:8080/"
        },
        "id": "MKvRU08NuL3G",
        "outputId": "6b65a141-f5e0-4161-fb26-8cfc9bcb5c94"
      },
      "execution_count": 27,
      "outputs": [
        {
          "output_type": "stream",
          "name": "stdout",
          "text": [
            "+----------+------------+\n",
            "|product_id|product_name|\n",
            "+----------+------------+\n",
            "|         1|      яблоко|\n",
            "|         2|       груша|\n",
            "|         3|     помидор|\n",
            "|         4| калькулятор|\n",
            "+----------+------------+\n",
            "\n",
            "+-----------+-----------------+\n",
            "|category_id|    category_name|\n",
            "+-----------+-----------------+\n",
            "|          1|           фрукты|\n",
            "|          2|            овощи|\n",
            "|          3|молочные продукты|\n",
            "+-----------+-----------------+\n",
            "\n",
            "+----------+-----------+\n",
            "|product_id|category_id|\n",
            "+----------+-----------+\n",
            "|         1|          1|\n",
            "|         2|          1|\n",
            "|         3|          2|\n",
            "+----------+-----------+\n",
            "\n"
          ]
        }
      ]
    },
    {
      "cell_type": "markdown",
      "source": [
        "Метод для получения датафрейма с парами «Имя продукта – Имя категории» (учитывая продукты, у которых нет категории)"
      ],
      "metadata": {
        "id": "mxTtMptL035y"
      }
    },
    {
      "cell_type": "code",
      "source": [
        "def get_products_categories(prod_df, cat_df, prod_cat_df):\n",
        "  joined_df = prod_df.join(prod_cat_df, prod_df.product_id == prod_cat_df.product_id, 'left').join(cat_df, prod_cat_df.category_id == cat_df.category_id, 'left')\n",
        "  return joined_df.select(\"product_name\", \"category_name\")"
      ],
      "metadata": {
        "id": "ahqRQOvXyFsI"
      },
      "execution_count": 28,
      "outputs": []
    },
    {
      "cell_type": "markdown",
      "source": [
        "Результат:"
      ],
      "metadata": {
        "id": "-GHYShqb1Cdi"
      }
    },
    {
      "cell_type": "code",
      "source": [
        "get_products_categories(products_df, categories_df, prod_cat_df).show()"
      ],
      "metadata": {
        "colab": {
          "base_uri": "https://localhost:8080/"
        },
        "id": "FpN_EgDh0Zu5",
        "outputId": "b1ea52cd-4436-4900-c8b4-c90053b6eb44"
      },
      "execution_count": 29,
      "outputs": [
        {
          "output_type": "stream",
          "name": "stdout",
          "text": [
            "+------------+-------------+\n",
            "|product_name|category_name|\n",
            "+------------+-------------+\n",
            "| калькулятор|         null|\n",
            "|      яблоко|       фрукты|\n",
            "|       груша|       фрукты|\n",
            "|     помидор|        овощи|\n",
            "+------------+-------------+\n",
            "\n"
          ]
        }
      ]
    }
  ]
}